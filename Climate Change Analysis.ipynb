{
 "cells": [
  {
   "cell_type": "markdown",
   "metadata": {},
   "source": [
    "# ASSIGNMENT 2: (adapted from https://bit.ly/2YFryiB)\n",
    "\n",
    "## PROBLEM:\n",
    "\n",
    "### Context\n",
    "\n",
    "Climate change is a contentious topic in the 21st century, eliciting different opinions and hardline stances on those opinions.\n",
    "\n",
    "Data visualization can help us use data to communicate more powerfully that words ever could.\n",
    "\n",
    "Early data on climate was collected by technicians using mercury thermometers, where any variation in the visit time impacted measurements. In the 1940s, the construction of airports caused many weather stations to be moved. In the 1980s, there was a move to electronic thermometers that are said to have a cooling bias.\n",
    "\n",
    "Given this complexity, there are a range of organizations that collate climate trends data. The three most cited land and ocean temperature data sets are NOAA’s MLOST, NASA’s GISTEMP and the UK’s HadCrut.\n",
    "\n",
    "The data under use will be from a newer compilation put together by Berkeley Earth, which is affiliated with Lawrence Berkeley National Laboratory. The Berkeley Earth Surface Temperature Study combines 1.6 billion temperature reports from 16 pre-existing archives. It is nicely packaged and allows for slicing into interesting subsets (for example by country). They publish the source data and the code for the transformations they applied. They also use methods that allow weather observations from shorter time series to be included, meaning fewer observations need to be thrown away.\n",
    "\n",
    "A description of each of the variables contained within this dataset can be found [here]('https://github.com/masterpython4ds/assignment-2-CeeThinwa/tree/master/data/README.md'); the raw data comes from the [Berkeley Earth data page]('http://berkeleyearth.org/data/').\n",
    "\n",
    "### Personal disclaimer\n",
    "\n",
    "From a research perspective, the results obtained are never going to be a full representation because there is no such thing as perfect data that is completely representative of the population. It is meant to help us form our own judgement on climate change.\n"
   ]
  },
  {
   "cell_type": "markdown",
   "metadata": {},
   "source": [
    "## SOLUTION:\n",
    "\n",
    "Data visualization will be the primary means of communication with a brief commentary to close this notebook.\n"
   ]
  },
  {
   "cell_type": "code",
   "execution_count": 1,
   "metadata": {},
   "outputs": [],
   "source": [
    "#Load packages\n",
    "import numpy as np\n",
    "import pandas as pd"
   ]
  },
  {
   "cell_type": "code",
   "execution_count": null,
   "metadata": {},
   "outputs": [],
   "source": [
    "#Load data\n",
    "land_and_ocean = pd.read_csv('https://media.githubusercontent.com/media/masterpython4ds/assignment-2-CeeThinwa/master/data/GlobalTemperatures.csv')\n",
    "country_land = pd.read_csv('https://media.githubusercontent.com/media/masterpython4ds/assignment-2-CeeThinwa/master/data/GlobalLandTemperaturesByCountry.csv')\n",
    "state_land = pd.read_csv('https://media.githubusercontent.com/media/masterpython4ds/assignment-2-CeeThinwa/master/data/GlobalLandTemperaturesByState.csv')\n",
    "major_city_land = pd.read_csv('https://media.githubusercontent.com/media/masterpython4ds/assignment-2-CeeThinwa/master/data/GlobalLandTemperaturesByMajorCity.csv')\n",
    "city_land = pd.read_csv('https://media.githubusercontent.com/media/masterpython4ds/assignment-2-CeeThinwa/master/data/GlobalLandTemperaturesByCity.csv')"
   ]
  },
  {
   "cell_type": "code",
   "execution_count": null,
   "metadata": {},
   "outputs": [],
   "source": [
    "land_and_ocean.head(3)"
   ]
  },
  {
   "cell_type": "markdown",
   "metadata": {},
   "source": [
    "### What can Matplotlib visuals communicate about climate change?"
   ]
  },
  {
   "cell_type": "markdown",
   "metadata": {},
   "source": [
    "### What can Basemap visuals communicate about climate change?"
   ]
  },
  {
   "cell_type": "markdown",
   "metadata": {},
   "source": [
    "### What can Seaborn visuals communicate about climate change?"
   ]
  },
  {
   "cell_type": "markdown",
   "metadata": {},
   "source": [
    "### My commentary\n",
    "\n",
    "\n",
    "### Conclusion\n",
    "\n"
   ]
  }
 ],
 "metadata": {
  "kernelspec": {
   "display_name": "Python 3",
   "language": "python",
   "name": "python3"
  },
  "language_info": {
   "codemirror_mode": {
    "name": "ipython",
    "version": 3
   },
   "file_extension": ".py",
   "mimetype": "text/x-python",
   "name": "python",
   "nbconvert_exporter": "python",
   "pygments_lexer": "ipython3",
   "version": "3.8.0"
  }
 },
 "nbformat": 4,
 "nbformat_minor": 4
}
